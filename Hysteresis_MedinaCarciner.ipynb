{
 "cells": [
  {
   "cell_type": "markdown",
   "id": "e93e12a2",
   "metadata": {},
   "source": [
    "### Função de histereses\n",
    "\n",
    "\n",
    "\n"
   ]
  },
  {
   "cell_type": "code",
   "execution_count": 1,
   "id": "c0aea4e5",
   "metadata": {},
   "outputs": [
    {
     "name": "stderr",
     "output_type": "stream",
     "text": [
      "C:\\Users\\lisy_\\anaconda3\\Lib\\site-packages\\paramiko\\transport.py:219: CryptographyDeprecationWarning: Blowfish has been deprecated\n",
      "  \"class\": algorithms.Blowfish,\n"
     ]
    }
   ],
   "source": [
    "import numpy as np\n",
    "import cv2 as cv\n",
    "import os\n",
    "import matplotlib.pyplot as plt\n",
    "from skimage import color\n",
    "import morphological_operators_fuzzy as mof\n",
    "import operators_fuzzy as of \n",
    "import functions_plots as fp\n",
    "import op_edge_detector as ed"
   ]
  },
  {
   "cell_type": "code",
   "execution_count": 2,
   "id": "e0d23c7c",
   "metadata": {},
   "outputs": [],
   "source": [
    "from skimage import data, filters\n",
    "\n",
    "def histmedcar(ImGra,Bottom,Top,Step):\n",
    "    \n",
    "\n",
    "    n,m=ImGra.shape\n",
    "\n",
    "    acum=np.zeros((n,m))\n",
    "    contador=0\n",
    "\n",
    "    for i in range(Bottom,Top,Step):\n",
    "        for j in range(i,Top,Step):\n",
    "\n",
    "            im1=filters.apply_hysteresis_threshold(ImGra,i,j).astype(int)\n",
    "\n",
    "            im2=filters.apply_hysteresis_threshold(ImGra,j,j).astype(int)\n",
    "\n",
    "            resta=im1-im2\n",
    "\n",
    "\n",
    "            acum=acum+resta\n",
    "            contador=contador+1\n",
    "\n",
    "    acum=np.floor(acum*255/contador)\n",
    "\n",
    "    aux3=np.ones(256)\n",
    "\n",
    "    contador=1\n",
    "\n",
    "    for i in range(0,255,1):\n",
    "        umbra=filters.apply_hysteresis_threshold(acum,i,i).astype(int)\n",
    "        aux=sum(sum((umbra==1).astype(int)));\n",
    "        aux2=sum((ImGra[np.where(umbra==1)]==i).astype(int))\n",
    "        #print(aux2)\n",
    "        if aux==0:\n",
    "            aux3[contador]=0\n",
    "        else:\n",
    "            aux3[contador]=aux2/aux\n",
    "\n",
    "        contador=contador+1\n",
    "\n",
    "    contador=0\n",
    "    for i in range(1,255,1):\n",
    "        if aux3[i]>0:\n",
    "            if (aux3[i]>aux3[i-1]) & (aux3[i]>aux3[i+1]):\n",
    "                contador=contador+1\n",
    "                if contador==1:\n",
    "                    umbrals1=i-1\n",
    "\n",
    "                else:\n",
    "                    umbrals2=i-1\n",
    "    \n",
    "    print(umbrals1,umbrals2)\n",
    "    bw=filters.apply_hysteresis_threshold(ImGra,umbrals1,umbrals2).astype(int)\n",
    "    \n",
    "    return bw\n"
   ]
  },
  {
   "cell_type": "code",
   "execution_count": null,
   "id": "eb385a25",
   "metadata": {},
   "outputs": [],
   "source": []
  }
 ],
 "metadata": {
  "kernelspec": {
   "display_name": "Python 3 (ipykernel)",
   "language": "python",
   "name": "python3"
  },
  "language_info": {
   "codemirror_mode": {
    "name": "ipython",
    "version": 3
   },
   "file_extension": ".py",
   "mimetype": "text/x-python",
   "name": "python",
   "nbconvert_exporter": "python",
   "pygments_lexer": "ipython3",
   "version": "3.11.4"
  }
 },
 "nbformat": 4,
 "nbformat_minor": 5
}
