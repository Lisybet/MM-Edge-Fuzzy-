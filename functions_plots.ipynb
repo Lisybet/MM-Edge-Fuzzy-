{
 "cells": [
  {
   "cell_type": "code",
   "execution_count": 1,
   "id": "82b303b5",
   "metadata": {},
   "outputs": [],
   "source": [
    "import matplotlib.pyplot as plt"
   ]
  },
  {
   "cell_type": "code",
   "execution_count": 4,
   "id": "f2bcee52",
   "metadata": {},
   "outputs": [],
   "source": [
    "def plot_2Images(image1, image2, label1='', label2=''):\n",
    "    # code for displaying multiple images in one figure \n",
    "    # create figure \n",
    "    fig = plt.figure(figsize=(10, 4)) \n",
    "  \n",
    "    # setting values to rows and column variables \n",
    "    rows = 1\n",
    "    columns = 2\n",
    "\n",
    "    # Adds a subplot at the 1st position \n",
    "    fig.add_subplot(rows, columns, 1) \n",
    "\n",
    "    # showing image \n",
    "    plt.imshow(image1, cmap=\"gray\") \n",
    "    plt.axis('off') \n",
    "    plt.title(label1) \n",
    "\n",
    "    # Adds a subplot at the 2nd position \n",
    "    fig.add_subplot(rows, columns, 2) \n",
    "\n",
    "    # showing image \n",
    "    plt.imshow(image2, cmap=\"gray\") \n",
    "    plt.axis('off') \n",
    "    plt.title(label2) \n"
   ]
  },
  {
   "cell_type": "code",
   "execution_count": 5,
   "id": "be9ca324",
   "metadata": {},
   "outputs": [],
   "source": [
    "def plot_3Images(image1, image2, image3, label1='', label2='', label3=''):\n",
    "    # code for displaying multiple images in one figure \n",
    "    # create figure \n",
    "    fig = plt.figure(figsize=(10, 4)) \n",
    "  \n",
    "    # setting values to rows and column variables \n",
    "    rows = 1\n",
    "    columns = 3\n",
    "\n",
    "    # Adds a subplot at the 1st position \n",
    "    fig.add_subplot(rows, columns, 1) \n",
    "\n",
    "    # showing image \n",
    "    plt.imshow(image1, cmap=\"gray\") \n",
    "    plt.axis('off') \n",
    "    plt.title(label1) \n",
    "\n",
    "    # Adds a subplot at the 2nd position \n",
    "    fig.add_subplot(rows, columns, 2) \n",
    "\n",
    "    # showing image \n",
    "    plt.imshow(image2, cmap=\"gray\") \n",
    "    plt.axis('off') \n",
    "    plt.title(label2) \n",
    "\n",
    "    # Adds a subplot at the 3rd position \n",
    "    fig.add_subplot(rows, columns, 3) \n",
    "\n",
    "    # showing image \n",
    "    plt.imshow(image3, cmap=\"gray\") \n",
    "    plt.axis('off') \n",
    "    plt.title(label3) "
   ]
  },
  {
   "cell_type": "code",
   "execution_count": null,
   "id": "a97625cc",
   "metadata": {},
   "outputs": [],
   "source": []
  }
 ],
 "metadata": {
  "kernelspec": {
   "display_name": "Python 3 (ipykernel)",
   "language": "python",
   "name": "python3"
  },
  "language_info": {
   "codemirror_mode": {
    "name": "ipython",
    "version": 3
   },
   "file_extension": ".py",
   "mimetype": "text/x-python",
   "name": "python",
   "nbconvert_exporter": "python",
   "pygments_lexer": "ipython3",
   "version": "3.11.4"
  }
 },
 "nbformat": 4,
 "nbformat_minor": 5
}
