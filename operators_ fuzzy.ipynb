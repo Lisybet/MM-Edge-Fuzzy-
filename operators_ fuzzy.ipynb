{
 "cells": [
  {
   "cell_type": "code",
   "execution_count": 2,
   "id": "8b16d338",
   "metadata": {},
   "outputs": [],
   "source": [
    "import numpy as np\n",
    "\n",
    "def maxC_L(A,B,r):\n",
    "    C = A+B-r\n",
    "    C = np.where(C > 0, C, 0) # 0 se C[i,j]<=0\n",
    "    return C.astype(float)\n",
    "\n",
    "def minI_L(A,B,r):\n",
    "    C = r-A+B\n",
    "    C = np.where(C < 255, C, 255) # 0 se C[i,j]<=0\n",
    "    return C.astype(float)\n",
    "\n",
    "\n",
    "def imagem_amp(im,cte):\n",
    "    im_hori=np.c_[np.ones(im.shape[0])*cte,im,np.ones(im.shape[0])*cte] # add a colums\n",
    "    im_ver=np.r_[[np.ones(im_hori.shape[1])*cte],im_hori,[np.ones(im_hori.shape[1])*cte]] #add rows\n",
    "    return im_ver"
   ]
  },
  {
   "cell_type": "code",
   "execution_count": 3,
   "id": "5618de3f",
   "metadata": {},
   "outputs": [],
   "source": [
    "\n",
    "def maxC_L1(A,B,r):\n",
    "\n",
    "    n,m=A.shape\n",
    "    if B.shape[0]!= n:\n",
    "        alert=print('Inner matriz dimensions must be agree')\n",
    "        return alert\n",
    "    C=np.zeros((n,m))\n",
    "\n",
    "    #for i in range(0,m):\n",
    "        #for j in range(0,n):\n",
    "            #C[i,j]=max(0,A[i,j]+B[i,j]-r)\n",
    "    C=[min(0,r-A[i,j]+B[i,j]) for i in range(0,n) for j in range(0,m)]\n",
    "    return C\n",
    "\n",
    "def minI_L1(A,B,r):\n",
    "\n",
    "    n,m=A.shape\n",
    "    if B.shape[0]!= n:\n",
    "        alert=print('Inner matriz dimensions must be agree')\n",
    "        return alert\n",
    "    C=np.zeros((m,m))\n",
    "\n",
    "    #for i in range(0,m):\n",
    "        #for j in range(0,n):\n",
    "            #C[i,j]=min(255,r-A[i,j]+B[i,j])\n",
    "          \n",
    "    C=[min(255,r-A[i,j]+B[i,j]) for i in range(0,m) for j in range(0,n)]\n",
    "    return C"
   ]
  },
  {
   "cell_type": "code",
   "execution_count": null,
   "id": "73190f89",
   "metadata": {},
   "outputs": [],
   "source": []
  }
 ],
 "metadata": {
  "kernelspec": {
   "display_name": "Python 3 (ipykernel)",
   "language": "python",
   "name": "python3"
  },
  "language_info": {
   "codemirror_mode": {
    "name": "ipython",
    "version": 3
   },
   "file_extension": ".py",
   "mimetype": "text/x-python",
   "name": "python",
   "nbconvert_exporter": "python",
   "pygments_lexer": "ipython3",
   "version": "3.11.4"
  }
 },
 "nbformat": 4,
 "nbformat_minor": 5
}
