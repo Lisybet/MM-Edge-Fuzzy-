{
 "cells": [
  {
   "cell_type": "code",
   "execution_count": 3,
   "id": "1fdb22a4",
   "metadata": {},
   "outputs": [],
   "source": [
    "import numpy as np"
   ]
  },
  {
   "cell_type": "code",
   "execution_count": 4,
   "id": "5a88e4ba",
   "metadata": {},
   "outputs": [],
   "source": [
    "def dilate_fuzzy(imagem_gray,SE,op_C_fuzzy,SE_dim=3): \n",
    "    \n",
    "    n, m = imagem_gray.shape # n =filas ,  m= columnas     \n",
    "    \n",
    "    img_dilate = [np.amax(op_C_fuzzy(imagem_gray[i:i+SE_dim,j:j+SE_dim], SE, r)) for i in range(n-2) for j in range(m-2)]\n",
    "    \n",
    "    return np.array(img_dilate).reshape((n-2, m-2))\n"
   ]
  },
  {
   "cell_type": "code",
   "execution_count": 6,
   "id": "d2d43193",
   "metadata": {},
   "outputs": [],
   "source": [
    "def erode_fuzzy(imagem_gray,SE,op_I_fuzzy,SE_dim=3):    \n",
    "    \n",
    "    n, m = imagem_gray.shape # n = filas ,  m= columnas   \n",
    "    \n",
    "    img_erode = [pto_min(op_I_fuzzy(imagem_gray[i:i+SE_dim,j:j+SE_dim], SE, r)) for i in range(n-2) for j in range(m-2)] \n",
    "    \n",
    "    return np.array(img_erode).reshape((n-2, m-2))"
   ]
  },
  {
   "cell_type": "code",
   "execution_count": null,
   "id": "42232d6a",
   "metadata": {},
   "outputs": [],
   "source": []
  },
  {
   "cell_type": "code",
   "execution_count": null,
   "id": "2463f09e",
   "metadata": {},
   "outputs": [],
   "source": []
  },
  {
   "cell_type": "code",
   "execution_count": null,
   "id": "cc3bf68b",
   "metadata": {},
   "outputs": [],
   "source": []
  }
 ],
 "metadata": {
  "kernelspec": {
   "display_name": "Python 3 (ipykernel)",
   "language": "python",
   "name": "python3"
  },
  "language_info": {
   "codemirror_mode": {
    "name": "ipython",
    "version": 3
   },
   "file_extension": ".py",
   "mimetype": "text/x-python",
   "name": "python",
   "nbconvert_exporter": "python",
   "pygments_lexer": "ipython3",
   "version": "3.11.4"
  }
 },
 "nbformat": 4,
 "nbformat_minor": 5
}
